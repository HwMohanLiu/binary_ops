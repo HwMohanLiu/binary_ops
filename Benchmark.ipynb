{
 "metadata": {
  "name": "",
  "signature": "sha256:0f432d21c085f17d98f35eaab10ae4220c5d5d99109e504a1ab7cb7ffd776dec"
 },
 "nbformat": 3,
 "nbformat_minor": 0,
 "worksheets": [
  {
   "cells": [
    {
     "cell_type": "code",
     "collapsed": false,
     "input": [
      "import matplotlib\n",
      "import numpy as np\n",
      "import matplotlib.pyplot as plt\n",
      "%matplotlib inline"
     ],
     "language": "python",
     "metadata": {},
     "outputs": [],
     "prompt_number": 1
    },
    {
     "cell_type": "code",
     "collapsed": false,
     "input": [
      "import tensorflow as tf\n",
      "import bn_ops\n",
      "import time"
     ],
     "language": "python",
     "metadata": {},
     "outputs": [],
     "prompt_number": 2
    },
    {
     "cell_type": "code",
     "collapsed": false,
     "input": [
      "sess = tf.InteractiveSession()\n",
      "\n",
      "sizes = [256, 512, 1024, 2048, 4096, 8192]\n",
      "timenative = []\n",
      "timexnor = []\n",
      "\n",
      "iteration = 50\n",
      "for size in sizes:\n",
      "    mat0 = tf.get_variable(\"mat_%d_0_%f\" % (size, time.time()), [size, size], initializer=tf.random_uniform_initializer(-1., 1.))\n",
      "    mat1 = tf.get_variable(\"mat_%d_1_%f\" % (size, time.time()), [size, size], initializer=tf.random_uniform_initializer(-1., 1.))\n",
      "    bmat0 = tf.sign(mat0)\n",
      "    bmat1 = tf.sign(mat1)\n",
      "    result1 = tf.matmul(bmat0, bmat1)\n",
      "    result2 = bn_ops.bn_matmul(bmat0, bmat1)\n",
      "    \n",
      "    mat0.initializer.run()\n",
      "    mat1.initializer.run()\n",
      "    # tensorflow needs this first computation to even out the speed\n",
      "    result1.eval()\n",
      "    result2.eval()\n",
      "    time1 = time.time()\n",
      "    for _ in range(iteration):\n",
      "        result1.eval()\n",
      "    time1_end = time.time()\n",
      "    timenative.append((time1_end - time1)/iteration)\n",
      "    \n",
      "    time1 = time.time()\n",
      "    for _ in range(iteration):\n",
      "        result2.eval()\n",
      "    time1_end = time.time()\n",
      "    timexnor.append((time1_end - time1)/iteration)"
     ],
     "language": "python",
     "metadata": {},
     "outputs": [],
     "prompt_number": 3
    },
    {
     "cell_type": "code",
     "collapsed": false,
     "input": [
      "plt.plot(sizes, timenative, label='cuBlas')\n",
      "plt.plot(sizes, timexnor, label='XNOR')\n",
      "plt.ylabel(\"Time (s)\")\n",
      "plt.xlabel(\"Matrix size (single dimension)\")\n",
      "plt.legend()\n",
      "plt.show()"
     ],
     "language": "python",
     "metadata": {},
     "outputs": [
      {
       "metadata": {},
       "output_type": "display_data",
       "png": "[encoded data removed]",
       "text": [
        "<matplotlib.figure.Figure at 0x7f5d00b5d610>"
       ]
      }
     ],
     "prompt_number": 4
    },
    {
     "cell_type": "code",
     "collapsed": false,
     "input": [],
     "language": "python",
     "metadata": {},
     "outputs": []
    }
   ],
   "metadata": {}
  }
 ]
}